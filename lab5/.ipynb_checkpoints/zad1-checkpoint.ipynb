{
 "cells": [
  {
   "cell_type": "code",
   "execution_count": 1,
   "metadata": {},
   "outputs": [],
   "source": [
    "from sklearn import datasets\n",
    "from sklearn.model_selection import train_test_split\n",
    "from scipy.spatial import distance\n",
    "from sklearn.metrics import accuracy_score"
   ]
  },
  {
   "cell_type": "code",
   "execution_count": 17,
   "metadata": {},
   "outputs": [
    {
     "name": "stdout",
     "output_type": "stream",
     "text": [
      "case 0:\n",
      "[5.7 2.5 5.  2. ]\n",
      "2\n",
      "neighbours:\n",
      "(array([6.3, 2.5, 5. , 1.9]), 0.6082762530298216, 2)\n",
      "(array([6.2, 2.8, 4.8, 1.8]), 0.648074069840786, 2)\n",
      "(array([6. , 3. , 4.8, 1.8]), 0.648074069840786, 2)\n",
      "(array([6. , 2.2, 5. , 1.5]), 0.6557438524302, 2)\n",
      "(array([6.3, 2.7, 4.9, 1.8]), 0.6708203932499366, 2)\n",
      "\n",
      "case 1:\n",
      "[5.8 2.7 5.1 1.9]\n",
      "2\n",
      "neighbours:\n",
      "(array([6. , 3. , 4.8, 1.8]), 0.4795831523312718, 2)\n",
      "(array([6.2, 2.8, 4.8, 1.8]), 0.5196152422706632, 2)\n",
      "(array([6.3, 2.7, 4.9, 1.8]), 0.5477225575051659, 2)\n",
      "(array([6.3, 2.5, 5. , 1.9]), 0.5477225575051661, 2)\n",
      "(array([6. , 2.2, 5. , 1.5]), 0.6782329983125268, 2)\n",
      "\n"
     ]
    }
   ],
   "source": [
    "iris = datasets.load_iris()\n",
    "#print(iris)\n",
    "# 1. Podziel zbiór na uczący i testowy, test_size - procentowy udział (przykład 50 % uczący i testowy)\n",
    "features_train, features_test, labels_train, labels_test = train_test_split(iris.data, iris.target, test_size=0.5)\n",
    "\n",
    "# 2\n",
    "k = 5\n",
    "\n",
    "def get_k_neighbors(training_set, \n",
    "                  labels, \n",
    "                  test_instance, \n",
    "                  k, \n",
    "                  distance=distance):\n",
    "    \"\"\"\n",
    "    get_neighors calculates a list of the k nearest neighbors\n",
    "    of an instance 'test_instance'.\n",
    "    The list neighbors contains 3-tuples with  \n",
    "    (index, dist, label)\n",
    "    index    is the index from the training_set, \n",
    "    dist     is the distance between the test_instance and the \n",
    "             instance training_set[index]\n",
    "    distance is a reference to a function used to calculate the \n",
    "             distances\n",
    "    \"\"\"\n",
    "    distances = []\n",
    "    for index in range(len(training_set)):\n",
    "        dist = dst = distance.euclidean(test_instance, training_set[index])\n",
    "        distances.append((training_set[index], dist, labels[index]))\n",
    "    distances.sort(key=lambda x: x[1])\n",
    "    neighbors = distances[:k]\n",
    "    return neighbors\n",
    " \n",
    "\n",
    "for i in range(2):\n",
    "    neighbors = get_k_neighbors(features_train, \n",
    "                              labels_train, \n",
    "                              features_test[i], \n",
    "                              k)\n",
    "    print(\"case {}:\".format(i)) \n",
    "    print(features_test[i])\n",
    "    print(labels_test[i])\n",
    "    print(\"neighbours:\")\n",
    "    for n in neighbors:\n",
    "        print(n)\n",
    "    print()"
   ]
  },
  {
   "cell_type": "code",
   "execution_count": null,
   "metadata": {},
   "outputs": [],
   "source": []
  }
 ],
 "metadata": {
  "kernelspec": {
   "display_name": "Python 3",
   "language": "python",
   "name": "python3"
  },
  "language_info": {
   "codemirror_mode": {
    "name": "ipython",
    "version": 3
   },
   "file_extension": ".py",
   "mimetype": "text/x-python",
   "name": "python",
   "nbconvert_exporter": "python",
   "pygments_lexer": "ipython3",
   "version": "3.7.4"
  }
 },
 "nbformat": 4,
 "nbformat_minor": 2
}
