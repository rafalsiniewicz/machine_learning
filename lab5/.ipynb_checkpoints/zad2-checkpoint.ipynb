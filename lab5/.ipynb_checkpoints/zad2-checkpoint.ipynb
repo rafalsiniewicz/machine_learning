{
 "cells": [
  {
   "cell_type": "code",
   "execution_count": 12,
   "metadata": {},
   "outputs": [],
   "source": [
    "from sklearn import datasets\n",
    "from sklearn.metrics import accuracy_score\n",
    "from sklearn.model_selection import train_test_split\n",
    "from sklearn.neighbors import KNeighborsClassifier"
   ]
  },
  {
   "cell_type": "code",
   "execution_count": 13,
   "metadata": {},
   "outputs": [],
   "source": [
    "#1\n",
    "iris = datasets.load_iris()\n",
    "#Podziel zbiór na uczący i testowy, test_size - procentowy udział\n",
    "features_train, features_test, labels_train, labels_test = train_test_split(iris.data, iris.target, test_size=0.3)"
   ]
  },
  {
   "cell_type": "code",
   "execution_count": 14,
   "metadata": {},
   "outputs": [
    {
     "data": {
      "text/plain": [
       "KNeighborsClassifier(algorithm='auto', leaf_size=30, metric='minkowski',\n",
       "                     metric_params=None, n_jobs=None, n_neighbors=5, p=2,\n",
       "                     weights='uniform')"
      ]
     },
     "execution_count": 14,
     "metadata": {},
     "output_type": "execute_result"
    }
   ],
   "source": [
    "#2\n",
    "knn = KNeighborsClassifier()\n",
    "knn.fit(features_train, labels_train) "
   ]
  },
  {
   "cell_type": "code",
   "execution_count": 16,
   "metadata": {},
   "outputs": [
    {
     "name": "stdout",
     "output_type": "stream",
     "text": [
      "Predictions form the classifier:\n",
      "[2 0 2 2 1 0 0 2 0 0 1 0 0 1 0 0 0 1 2 0 0 2 1 2 1 0 0 0 2 2 2 0 1 2 1 1 2\n",
      " 1 1 2 2 0 2 1 0]\n",
      "Target values:\n",
      "[2 0 2 2 1 0 0 2 0 0 1 0 0 1 0 0 0 1 2 0 0 2 1 2 1 0 0 0 2 2 2 0 1 2 1 1 2\n",
      " 1 1 2 2 0 2 1 0]\n"
     ]
    }
   ],
   "source": [
    "#3\n",
    "predicted = knn.predict(features_test)\n",
    "print(\"Predictions form the classifier:\")\n",
    "print(predicted)\n",
    "print(\"Target values:\")\n",
    "print(labels_test)"
   ]
  },
  {
   "cell_type": "code",
   "execution_count": 19,
   "metadata": {},
   "outputs": [
    {
     "name": "stdout",
     "output_type": "stream",
     "text": [
      "Accuracy:\n",
      "1.0\n"
     ]
    }
   ],
   "source": [
    "#4\n",
    "print(\"Accuracy:\")\n",
    "print(accuracy_score(labels_test, predicted))"
   ]
  },
  {
   "cell_type": "code",
   "execution_count": null,
   "metadata": {},
   "outputs": [],
   "source": []
  }
 ],
 "metadata": {
  "kernelspec": {
   "display_name": "Python 3",
   "language": "python",
   "name": "python3"
  },
  "language_info": {
   "codemirror_mode": {
    "name": "ipython",
    "version": 3
   },
   "file_extension": ".py",
   "mimetype": "text/x-python",
   "name": "python",
   "nbconvert_exporter": "python",
   "pygments_lexer": "ipython3",
   "version": "3.7.4"
  }
 },
 "nbformat": 4,
 "nbformat_minor": 2
}
