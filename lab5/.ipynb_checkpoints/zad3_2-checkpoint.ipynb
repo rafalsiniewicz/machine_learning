{
 "cells": [
  {
   "cell_type": "code",
   "execution_count": 9,
   "metadata": {},
   "outputs": [
    {
     "name": "stdout",
     "output_type": "stream",
     "text": [
      "liczba cyfr:  5000\n",
      "liczba pikseli na obrazie 400\n"
     ]
    }
   ],
   "source": [
    "# -*- coding: utf-8 -*-\n",
    "import matplotlib.pyplot as plt\n",
    "import numpy as np\n",
    "from sklearn.metrics import classification_report, confusion_matrix, f1_score\n",
    "from sklearn import tree\n",
    "from sklearn.model_selection import train_test_split\n",
    "from scipy.io import loadmat\n",
    " \n",
    " \n",
    " \n",
    "# wczytywanie danych\n",
    "dane = loadmat('mnist.mat')\n",
    "# print(dane)\n",
    " \n",
    "# #Zad 1. Podziel dane na parametry X oraz odpowiedź y:\n",
    " \n",
    "X = dane[\"X\"]\n",
    "y = dane[\"y\"]\n",
    "\n",
    "# Standaryzacja\n",
    "for i in range(X.shape[0]):\n",
    "    X[i,:] = X[i,:]/np.std(X[i,:])\n",
    "\n",
    "# Zamiana cyfry 10 -> 0 (błąd w zbiorze danych)    \n",
    "y[np.where(y==10)]=0\n",
    " \n",
    "# wysokość i szerokość obrazka z cyfrą \n",
    "h = 20\n",
    "w = 20\n",
    " \n",
    "# # Zad 2. Proszę wyświetlić liczbę cyfr oraz liczbę pikseli przypadającą na jeden obraz\n",
    "print(\"liczba cyfr: \", len(X))\n",
    "print(\"liczba pikseli na obrazie\", h*w)"
   ]
  },
  {
   "cell_type": "code",
   "execution_count": 10,
   "metadata": {},
   "outputs": [],
   "source": [
    "def plot_mnist(images, titles, h, w, n_row=3, n_col=4):\n",
    "    plt.figure(figsize=(1.8 * n_col, 2.4 * n_row))\n",
    "    plt.subplots_adjust(bottom=0, left=.01, right=.99, top=.90, hspace=.05)\n",
    "    for i in range(n_row * n_col):\n",
    "        plt.subplot(n_row, n_col, i + 1)\n",
    "        plt.imshow(images[i].reshape((h, w)).T, cmap=plt.cm.gray)\n",
    "        plt.title(titles[i], size=12)\n",
    "        plt.xticks(())\n",
    "        plt.yticks(())"
   ]
  },
  {
   "cell_type": "code",
   "execution_count": 12,
   "metadata": {},
   "outputs": [
    {
     "data": {
      "image/png": "[encoded data removed]",
      "text/plain": [
       "<Figure size 518.4x518.4 with 12 Axes>"
      ]
     },
     "metadata": {},
     "output_type": "display_data"
    }
   ],
   "source": [
    "plot_mnist(X, y, h, w)"
   ]
  },
  {
   "cell_type": "code",
   "execution_count": 13,
   "metadata": {},
   "outputs": [
    {
     "data": {
      "text/plain": [
       "DecisionTreeClassifier(class_weight=None, criterion='gini', max_depth=10,\n",
       "                       max_features=None, max_leaf_nodes=None,\n",
       "                       min_impurity_decrease=0.0, min_impurity_split=None,\n",
       "                       min_samples_leaf=1, min_samples_split=2,\n",
       "                       min_weight_fraction_leaf=0.0, presort=False,\n",
       "                       random_state=None, splitter='best')"
      ]
     },
     "execution_count": 13,
     "metadata": {},
     "output_type": "execute_result"
    }
   ],
   "source": [
    "features_train, features_test, labels_train, labels_test = train_test_split(X, y, test_size=0.3)\n",
    "DEPTH = 10\n",
    "clf = tree.DecisionTreeClassifier(max_depth = DEPTH)\n",
    "clf.fit(features_train, labels_train)"
   ]
  },
  {
   "cell_type": "code",
   "execution_count": 14,
   "metadata": {},
   "outputs": [
    {
     "name": "stdout",
     "output_type": "stream",
     "text": [
      "0.764\n",
      "0.7616987316970124\n",
      "[0.88888889 0.88356164 0.73539519 0.69372694 0.75964392 0.63396226\n",
      " 0.7962963  0.79027356 0.75085324 0.68438538]\n"
     ]
    }
   ],
   "source": [
    "result = clf.predict(features_test)\n",
    "print( f1_score(labels_test, result, average='micro') )\n",
    "print( f1_score(labels_test, result, average='macro') )\n",
    "print( f1_score(labels_test, result, average=None) )"
   ]
  },
  {
   "cell_type": "code",
   "execution_count": 15,
   "metadata": {},
   "outputs": [
    {
     "data": {
      "text/plain": [
       "array([[132,   0,   3,   0,   0,   3,   5,   3,   2,   0],\n",
       "       [  0, 129,   3,   2,   1,   6,   0,   1,   2,   0],\n",
       "       [  2,   3, 107,   5,   4,   7,   2,   5,   5,   3],\n",
       "       [  0,   2,   8,  94,   6,  10,   1,   3,   9,   8],\n",
       "       [  2,   2,   2,   2, 128,   5,   8,   5,   1,   9],\n",
       "       [  4,   2,   3,  14,   4,  84,   7,   2,   4,   9],\n",
       "       [  3,   1,   9,   4,   8,   6, 129,   1,   6,   0],\n",
       "       [  3,   1,   4,   2,   6,   2,   2, 130,   0,  19],\n",
       "       [  0,   5,   8,   6,   3,   4,   3,   2, 110,  12],\n",
       "       [  3,   3,   1,   1,  13,   5,   0,   8,   1, 103]], dtype=int64)"
      ]
     },
     "execution_count": 15,
     "metadata": {},
     "output_type": "execute_result"
    }
   ],
   "source": [
    "confusion_matrix(labels_test, result, labels=[0, 1, 2, 3, 4, 5, 6, 7, 8, 9])"
   ]
  },
  {
   "cell_type": "code",
   "execution_count": 16,
   "metadata": {},
   "outputs": [
    {
     "name": "stdout",
     "output_type": "stream",
     "text": [
      "              precision    recall  f1-score   support\n",
      "\n",
      "           0       0.89      0.89      0.89       148\n",
      "           1       0.87      0.90      0.88       144\n",
      "           2       0.72      0.75      0.74       143\n",
      "           3       0.72      0.67      0.69       141\n",
      "           4       0.74      0.78      0.76       164\n",
      "           5       0.64      0.63      0.63       133\n",
      "           6       0.82      0.77      0.80       167\n",
      "           7       0.81      0.77      0.79       169\n",
      "           8       0.79      0.72      0.75       153\n",
      "           9       0.63      0.75      0.68       138\n",
      "\n",
      "    accuracy                           0.76      1500\n",
      "   macro avg       0.76      0.76      0.76      1500\n",
      "weighted avg       0.77      0.76      0.76      1500\n",
      "\n"
     ]
    }
   ],
   "source": [
    "print(classification_report(labels_test, result, target_names=['0', '1', '2', '3', '4', '5', '6', '7', '8', '9'] ))"
   ]
  },
  {
   "cell_type": "code",
   "execution_count": null,
   "metadata": {},
   "outputs": [],
   "source": []
  }
 ],
 "metadata": {
  "kernelspec": {
   "display_name": "Python 3",
   "language": "python",
   "name": "python3"
  },
  "language_info": {
   "codemirror_mode": {
    "name": "ipython",
    "version": 3
   },
   "file_extension": ".py",
   "mimetype": "text/x-python",
   "name": "python",
   "nbconvert_exporter": "python",
   "pygments_lexer": "ipython3",
   "version": "3.7.4"
  }
 },
 "nbformat": 4,
 "nbformat_minor": 2
}
